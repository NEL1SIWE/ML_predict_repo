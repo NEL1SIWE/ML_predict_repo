{
  "cells": [
    {
      "cell_type": "markdown",
      "metadata": {
        "id": "view-in-github",
        "colab_type": "text"
      },
      "source": [
        "<a href=\"https://colab.research.google.com/github/njabulomkhwanazi52/ML_predict_repo/blob/main/GD_notebook.ipynb\" target=\"_parent\"><img src=\"https://colab.research.google.com/assets/colab-badge.svg\" alt=\"Open In Colab\"/></a>"
      ]
    },
    {
      "cell_type": "code",
      "execution_count": null,
      "metadata": {
        "id": "fIgUkGFRZfv_"
      },
      "outputs": [],
      "source": [
        "#This is a notebook for the project"
      ]
    },
    {
      "cell_type": "code",
      "source": [
        "print(\"William X was here\")"
      ],
      "metadata": {
        "colab": {
          "base_uri": "https://localhost:8080/"
        },
        "id": "5y0FJEXsem4h",
        "outputId": "ea81a16e-66c7-4b7d-c97e-c1501f84a382"
      },
      "execution_count": null,
      "outputs": [
        {
          "output_type": "stream",
          "name": "stdout",
          "text": [
            "William X was here\n"
          ]
        }
      ]
    },
    {
      "cell_type": "code",
      "source": [
        "# Please do shout or add a comment below Njabulo. I'll monitor it here"
      ],
      "metadata": {
        "id": "S1jOUI3pgxgM"
      },
      "execution_count": null,
      "outputs": []
    }
  ],
  "metadata": {
    "language_info": {
      "name": "python"
    },
    "orig_nbformat": 4,
    "colab": {
      "name": "GD notebook.ipynb",
      "provenance": [],
      "include_colab_link": true
    },
    "kernelspec": {
      "name": "python3",
      "display_name": "Python 3"
    }
  },
  "nbformat": 4,
  "nbformat_minor": 0
}