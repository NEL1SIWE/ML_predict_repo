{
  "cells": [
    {
      "cell_type": "markdown",
      "metadata": {
        "id": "view-in-github",
        "colab_type": "text"
      },
      "source": [
        "<a href=\"https://colab.research.google.com/github/njabulomkhwanazi52/ML_predict_repo/blob/main/GD_notebook.ipynb\" target=\"_parent\"><img src=\"https://colab.research.google.com/assets/colab-badge.svg\" alt=\"Open In Colab\"/></a>"
      ]
    },
    {
      "cell_type": "markdown",
      "source": [
        "\n",
        "***\n",
        " # <center> <font color='#04b3dc'>**Spain Electricity Shortfall Challenge 2022**</font>\n",
        "\n",
        " <center> Predict the expected electricity shortfall \n",
        " \n",
        "***"
      ],
      "metadata": {
        "id": "vZHQqwSEh3HD"
      }
    },
    {
      "cell_type": "markdown",
      "source": [
        "<br />\n",
        "\n",
        "<center> <img src=\"https://explore-datascience.net/images/images_admissions2/main-logo.jpg\" width=500 height=100 />\n",
        "\n",
        "<br />"
      ],
      "metadata": {
        "id": "CHj8WNalsk0Z"
      }
    },
    {
      "cell_type": "markdown",
      "source": [
        "### <center>  <font color='#04b3dc'> **TEAM CBB1** </font>\n"
      ],
      "metadata": {
        "id": "ea5lEH1EuktG"
      }
    },
    {
      "cell_type": "markdown",
      "source": [
        "<font color='#04b3dc'> **Team members** </font>\n",
        "\n",
        "*   Njabulo Mkhwanazi\n",
        "*   Tinyiko Masinga\n",
        "*   William Hlatshwayo\n",
        "*   Nelisiwe Mathebula\n",
        "*   Success Mabelane\n",
        "*   Siphelele Jack\n",
        "<br />\n",
        "\n",
        "<font color='#04b3dc'> **Supervisor :** </font> Chris Bevan Barnett\n",
        "\n",
        "\n",
        "\n",
        "\n",
        "\n"
      ],
      "metadata": {
        "id": "pEJZpO9wxLbd"
      }
    },
    {
      "cell_type": "markdown",
      "source": [
        "### <center>  <font color='#04b3dc'> **Introduction** </font>"
      ],
      "metadata": {
        "id": "0hrdwtnq04Ux"
      }
    },
    {
      "cell_type": "code",
      "source": [
        ""
      ],
      "metadata": {
        "id": "cYLzpaaO1BBk"
      },
      "execution_count": null,
      "outputs": []
    },
    {
      "cell_type": "markdown",
      "source": [
        "### <center>  <font color='#04b3dc'> **Data analysis and model creation** </font>"
      ],
      "metadata": {
        "id": "rD4L2yJ9Be19"
      }
    },
    {
      "cell_type": "markdown",
      "source": [
        "\n",
        "* ####   **Exploratory Data Analysis (EDA)**\n",
        "\n",
        "\n",
        "\n"
      ],
      "metadata": {
        "id": "xAVjj08uCTwe"
      }
    },
    {
      "cell_type": "code",
      "source": [
        ""
      ],
      "metadata": {
        "id": "h9BvWoCbDJjI"
      },
      "execution_count": null,
      "outputs": []
    },
    {
      "cell_type": "markdown",
      "source": [
        "\n",
        "\n",
        "*   #### **Clean and Augment Data**\n",
        "\n",
        "\n"
      ],
      "metadata": {
        "id": "rQxB0t4sDZHQ"
      }
    },
    {
      "cell_type": "code",
      "source": [
        ""
      ],
      "metadata": {
        "id": "sMbRF_12D3wF"
      },
      "execution_count": null,
      "outputs": []
    },
    {
      "cell_type": "markdown",
      "source": [
        "\n",
        "*  #### **Machine Learning (ML) Models**\n",
        "\n",
        "\n"
      ],
      "metadata": {
        "id": "qftE2xTLD9vo"
      }
    },
    {
      "cell_type": "code",
      "source": [
        ""
      ],
      "metadata": {
        "id": "Yy9PK5pKEcy_"
      },
      "execution_count": null,
      "outputs": []
    },
    {
      "cell_type": "markdown",
      "source": [
        "\n",
        "\n",
        "*   #### **Discussions and Export**\n",
        "\n",
        "\n"
      ],
      "metadata": {
        "id": "-2T7f12YE0jq"
      }
    },
    {
      "cell_type": "code",
      "source": [
        ""
      ],
      "metadata": {
        "id": "NuoIC6s2FOXw"
      },
      "execution_count": null,
      "outputs": []
    },
    {
      "cell_type": "markdown",
      "source": [
        "### <center>  <font color='#04b3dc'> **Conclusion** </font>"
      ],
      "metadata": {
        "id": "LyNL-2PxFXQV"
      }
    },
    {
      "cell_type": "code",
      "source": [
        ""
      ],
      "metadata": {
        "id": "GJa4sU6bFfRX"
      },
      "execution_count": null,
      "outputs": []
    }
  ],
  "metadata": {
    "language_info": {
      "name": "python"
    },
    "orig_nbformat": 4,
    "colab": {
      "name": "GD notebook.ipynb",
      "provenance": [],
      "include_colab_link": true
    },
    "kernelspec": {
      "name": "python3",
      "display_name": "Python 3"
    }
  },
  "nbformat": 4,
  "nbformat_minor": 0
}